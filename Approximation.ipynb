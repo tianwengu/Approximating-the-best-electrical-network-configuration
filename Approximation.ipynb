{
 "cells": [
  {
   "cell_type": "code",
   "execution_count": 97,
   "id": "0435462d-3f42-4845-8434-952b52a598b7",
   "metadata": {},
   "outputs": [],
   "source": [
    "import random\n",
    "import networkx as nx\n",
    "import matplotlib.pyplot as plt\n",
    "from itertools import combinations"
   ]
  },
  {
   "cell_type": "code",
   "execution_count": 2,
   "id": "47e9b4ad-e6c6-4e97-b805-963425662466",
   "metadata": {},
   "outputs": [],
   "source": [
    "def create_test_graph():\n",
    "    G = nx.Graph()\n",
    "    G.add_node(0)\n",
    "    G.add_nodes_from(range(1,23))\n",
    "    G.add_edge(0, 9)\n",
    "    G.add_edges_from([(0, 11), (1, 2), (1, 19), (1, 20), (1, 2), (2, 8), (3, 8), (4, 14),\n",
    "                      (4, 16), (4, 17), (4, 18), (5, 10), (5, 13), (5, 16), (5, 17), (6, 7),\n",
    "                      (6, 8), (6, 10), (6, 14), (6, 13), (7, 8), (8, 9), (8, 10), (9, 10),\n",
    "                      (10, 11), (10, 14), (11, 12), (11, 15), (11, 18), (13, 14), (14, 16), (14, 18),\n",
    "                      (15, 18), (15, 19), (15, 20), (15, 21), (16, 17), (17, 22), (18, 19), (18, 8),\n",
    "                      (19, 8), (20, 21), (22, 8)])\n",
    "    return G"
   ]
  },
  {
   "cell_type": "code",
   "execution_count": 3,
   "id": "2cacb25b-7a22-4c1d-a262-810ac8890e0e",
   "metadata": {},
   "outputs": [],
   "source": [
    "def random_binomial_graph(n, p=0.5):\n",
    "    G = nx.generators.binomial_graph(n, p)\n",
    "    while nx.is_connected(G) is False:\n",
    "        G = nx.generators.binomial_graph(n, p)\n",
    "    return G"
   ]
  },
  {
   "cell_type": "code",
   "execution_count": 4,
   "id": "740ebbbc-5d7b-42b8-97ea-3354975a4d53",
   "metadata": {},
   "outputs": [],
   "source": [
    "def create_complete_graph(G):\n",
    "    return nx.complete_graph(G.nodes)"
   ]
  },
  {
   "cell_type": "code",
   "execution_count": 5,
   "id": "7070f9e9-d5dd-4832-b5fa-4d3bccc5481b",
   "metadata": {},
   "outputs": [],
   "source": [
    "def test():\n",
    "    G = create_test_graph()\n",
    "    print(G.nodes)\n",
    "    print(G.edges)\n",
    "    G[21][15][\"weight\"] = 1\n",
    "\n",
    "    pos = nx.spring_layout(G)\n",
    "    nx.draw(G, with_labels=True, pos=pos)\n",
    "    labels = nx.get_edge_attributes(G, \"weight\")\n",
    "    print(labels)\n",
    "    nx.draw_networkx_edge_labels(G, pos, edge_labels=labels)\n",
    "    plt.savefig('test_graph.pdf')\n",
    "    plt.show()"
   ]
  },
  {
   "cell_type": "code",
   "execution_count": 6,
   "id": "a5fb932b-5481-4842-b587-6e9f161f4235",
   "metadata": {},
   "outputs": [],
   "source": [
    "def test_spanning_tree():\n",
    "    G = create_test_graph()\n",
    "    for u, v in G.edges:\n",
    "        G[u][v][\"weight\"] = random.randint(1, 10)\n",
    "    T = nx.algorithms.maximum_spanning_tree(G, weight=\"weight\")\n",
    "    print(T)\n",
    "\n",
    "    plt.subplot(121)\n",
    "    pos = nx.spring_layout(G)\n",
    "    nx.draw(G, with_labels=True, pos=pos)\n",
    "\n",
    "    plt.subplot(122)\n",
    "    nx.draw(T, with_labels=True, pos=pos)\n",
    "    plt.savefig('test_minimum_tree.pdf')\n",
    "    plt.show()"
   ]
  },
  {
   "cell_type": "code",
   "execution_count": 7,
   "id": "8b6df5e6-0bca-423e-b3e4-f9123fed088a",
   "metadata": {},
   "outputs": [],
   "source": [
    "def test_shortest_paths():\n",
    "    G = create_test_graph()\n",
    "    for u, v in G.edges:\n",
    "        G[u][v][\"weight\"] = random.randint(1, 10)\n",
    "\n",
    "    distances = dict(nx.algorithms.all_pairs_dijkstra_path_length(G, weight=\"weight\"))\n",
    "\n",
    "    pos = nx.spring_layout(G)\n",
    "    nx.draw(G, with_labels=True, pos=pos)\n",
    "    labels = nx.get_edge_attributes(G, \"weight\")\n",
    "    nx.draw_networkx_edge_labels(G, pos, edge_labels=labels)\n",
    "    plt.savefig('test_shortest_paths.pdf')\n",
    "    plt.show()\n",
    "\n",
    "    print(distances[0])\n",
    "    print(distances[0][22])"
   ]
  },
  {
   "cell_type": "code",
   "execution_count": 8,
   "id": "6d81c1ef-36f2-434b-8ad3-57556f62e1f9",
   "metadata": {},
   "outputs": [],
   "source": [
    "# verify if a solution is correct and evaluate it\n",
    "def eval_sol(graph, terminals, sol) -> float:\n",
    "    graph_sol = nx.Graph()\n",
    "    for (i, j) in sol:\n",
    "        if (i, j) in graph_sol.edges:\n",
    "            graph_sol[i][j]['weight'] = 1 + graph_sol[i][j].get('weight', 1)\n",
    "        else:\n",
    "            graph_sol.add_edge(i, j, weight=graph[i][j].get('weight', 1))\n",
    "\n",
    "    if not nx.is_tree(graph_sol):\n",
    "        print (\"Error: the proposed solution is not a tree\")\n",
    "        return -1\n",
    "\n",
    "    for i in terminals:\n",
    "        if not i in graph_sol:\n",
    "            print (\"Error: a terminal is missing from the solution\")\n",
    "            return -1\n",
    "\n",
    "    cost = graph_sol.size(weight='weight')\n",
    "    return cost"
   ]
  },
  {
   "cell_type": "code",
   "execution_count": 12,
   "id": "8f71344b-0027-4342-a70b-13ef9caf7606",
   "metadata": {},
   "outputs": [],
   "source": [
    "def two_approximation(G, terms):\n",
    "    # Step 1: Create the complete graph K using shortest paths between all terminal pairs\n",
    "    K = nx.Graph()\n",
    "    shortest_paths = {}\n",
    "    for u in terms:\n",
    "        for v in terms:\n",
    "            if u != v:\n",
    "                length, path = nx.single_source_dijkstra(G, u, target=v)\n",
    "                K.add_edge(u, v, weight=length)\n",
    "                shortest_paths[(u, v)] = path\n",
    "\n",
    "    # Step 2: Compute the Minimum Spanning Tree A from graph K\n",
    "    A = nx.minimum_spanning_tree(K, algorithm=\"kruskal\")\n",
    "\n",
    "    # Step 3: Unfold shortest path edges in G for each edge (u, v) in A\n",
    "    steiner_edges = []\n",
    "    for u, v in A.edges():\n",
    "        path = shortest_paths[(u, v)]\n",
    "        \n",
    "        for i in range(len(path) - 1):\n",
    "            steiner_edges.append((path[i], path[i + 1]))\n",
    "\n",
    "    return steiner_edges"
   ]
  },
  {
   "cell_type": "code",
   "execution_count": 13,
   "id": "b99898ba-2bd0-47d9-b33d-fd3aed20dc0d",
   "metadata": {},
   "outputs": [
    {
     "data": {
      "text/plain": [
       "[(0, 9), (9, 8), (8, 2), (0, 11), (11, 18), (18, 4), (1, 2), (2, 8), (8, 3)]"
      ]
     },
     "execution_count": 13,
     "metadata": {},
     "output_type": "execute_result"
    }
   ],
   "source": [
    "sol = two_approximation(create_test_graph(),[0, 1, 2, 3, 4])\n",
    "sol"
   ]
  },
  {
   "cell_type": "code",
   "execution_count": 14,
   "id": "79d8cf7c-7205-4750-ba77-9274c582196e",
   "metadata": {},
   "outputs": [
    {
     "data": {
      "text/plain": [
       "9.0"
      ]
     },
     "execution_count": 14,
     "metadata": {},
     "output_type": "execute_result"
    }
   ],
   "source": [
    "eval_sol(create_test_graph(),[0, 1, 2, 3, 4],sol)"
   ]
  },
  {
   "cell_type": "code",
   "execution_count": 15,
   "id": "9ab1ac12-687c-43c7-8edb-9d5f2e78d604",
   "metadata": {},
   "outputs": [],
   "source": [
    "def create_graphs(n,s,model,**kwargs):\n",
    "    Graphs = []\n",
    "    while len(Graphs) < n:\n",
    "        G = model(s,**kwargs)\n",
    "        while nx.is_connected(G) is False:\n",
    "            G = model(s,**kwargs)\n",
    "        Graphs.append(G)\n",
    "    return Graphs"
   ]
  },
  {
   "cell_type": "code",
   "execution_count": 211,
   "id": "65f75ad8-2aec-480f-9a4d-67f7b784285c",
   "metadata": {},
   "outputs": [],
   "source": [
    "graph_series = create_graphs(5, 10, nx.generators.binomial_graph, p=0.5)"
   ]
  },
  {
   "cell_type": "code",
   "execution_count": 94,
   "id": "69154932-57eb-4ff3-9842-e7a144692f54",
   "metadata": {},
   "outputs": [],
   "source": [
    "def average_solution(Graphs,f,terms):\n",
    "    total_weight = 0\n",
    "    for G in Graphs:\n",
    "        weight = eval_sol(G,terms,f(G,terms))\n",
    "        total_weight += weight\n",
    "    average_weight = total_weight / len(Graphs)\n",
    "    return average_weight"
   ]
  },
  {
   "cell_type": "code",
   "execution_count": 104,
   "id": "04ea3757-15f3-412c-abd4-45631c1d5288",
   "metadata": {},
   "outputs": [],
   "source": [
    " def three_terminal_steiner_tree(G, t0, t1, t2):\n",
    "    # Step 1: Compute shortest paths between all pairs of terminals\n",
    "    dist_01, path_01 = nx.single_source_dijkstra(G, t0, target=t1, weight='weight')\n",
    "    dist_02, path_02 = nx.single_source_dijkstra(G, t0, target=t2, weight='weight')\n",
    "    dist_12, path_12 = nx.single_source_dijkstra(G, t1, target=t2, weight='weight')\n",
    "    \n",
    "    # Step 2: Try all possible ways to connect the terminals via paths through intermediate nodes\n",
    "    path_t0_t1 = path_01\n",
    "    path_t2_to_path_01 = nx.shortest_path(G, source=t2, target=path_t0_t1[-1], weight='weight')\n",
    "    tree_1 = path_t0_t1 + path_t2_to_path_01[1:]\n",
    "    \n",
    "    path_t0_t2 = path_02\n",
    "    path_t1_to_path_02 = nx.shortest_path(G, source=t1, target=path_t0_t2[-1], weight='weight')\n",
    "    tree_2 = path_t0_t2 + path_t1_to_path_02[1:]\n",
    "    \n",
    "    path_t1_t2 = path_12\n",
    "    path_t0_to_path_12 = nx.shortest_path(G, source=t0, target=path_t1_t2[-1], weight='weight')\n",
    "    tree_3 = path_t1_t2 + path_t0_to_path_12[1:]\n",
    "    \n",
    "    # Step 3: Compare all three options and return the one with the least cost\n",
    "    total_cost_1 = sum(G[u][v].get('weight', 1) for u, v in zip(tree_1[:-1], tree_1[1:]))\n",
    "    total_cost_2 = sum(G[u][v].get('weight', 1) for u, v in zip(tree_2[:-1], tree_2[1:]))\n",
    "    total_cost_3 = sum(G[u][v].get('weight', 1) for u, v in zip(tree_3[:-1], tree_3[1:]))\n",
    "\n",
    "    \n",
    "    if total_cost_1 <= total_cost_2 and total_cost_1 <= total_cost_3:\n",
    "        return total_cost_1, tree_1\n",
    "    elif total_cost_2 <= total_cost_1 and total_cost_2 <= total_cost_3:\n",
    "        return total_cost_2, tree_2\n",
    "    else:\n",
    "        return total_cost_3, tree_3 "
   ]
  },
  {
   "cell_type": "code",
   "execution_count": 105,
   "id": "b36d28b1-eab8-45db-a3e2-791b44ffc732",
   "metadata": {},
   "outputs": [],
   "source": [
    " def lower_bound_k_terminal_steiner(G, terms):\n",
    "    if len(terms) == 3:\n",
    "        return three_terminal_steiner_tree(G, terms[0], terms[1], terms[2])\n",
    "    \n",
    "    # Use combinations of triples to estimate the lower bound\n",
    "    min_bound = float('inf')\n",
    "    for comb in combinations(terms, 3):\n",
    "        bound = three_terminal_steiner_tree(G, comb[0], comb[1], comb[2])\n",
    "        min_bound = min(min_bound, bound)\n",
    "    \n",
    "    return min_bound "
   ]
  },
  {
   "cell_type": "code",
   "execution_count": 106,
   "id": "824581c4-4658-4367-98d9-3bb5c7407fe3",
   "metadata": {},
   "outputs": [],
   "source": [
    "def average_lower_bound_k_terminal_steiner(graph_series,terms):\n",
    "    total_bound = 0\n",
    "    for G in graph_series:\n",
    "        lb = lower_bound_k_terminal_steiner(G, terms)\n",
    "        total_bound += lb\n",
    "    average_bound = total_bound / len(graph_series)\n",
    "    return average_bound"
   ]
  },
  {
   "cell_type": "code",
   "execution_count": 107,
   "id": "b1fd71b6-b92c-4954-bf6e-fb5bc7cabf0b",
   "metadata": {},
   "outputs": [],
   "source": [
    "def lower_bound_shortest_path(G,terms):\n",
    "    shortest_path_bound = 0\n",
    "    for i in range(len(terms)):\n",
    "        for j in range(i + 1, len(terms)):\n",
    "            path_length = nx.shortest_path_length(G, source=terms[i], target=terms[j], weight='weight')\n",
    "            shortest_path_bound = max(shortest_path_bound, path_length)\n",
    "    return shortest_path_bound"
   ]
  },
  {
   "cell_type": "code",
   "execution_count": 108,
   "id": "c675bb28-2070-4289-ac1a-1aa59e006fa0",
   "metadata": {},
   "outputs": [],
   "source": [
    "def average_lower_bound_shortest_path(graph_series,terms):\n",
    "    total_bound = 0\n",
    "    for G in graph_series:\n",
    "        lb = lower_bound_shortest_path(G, terms)\n",
    "        total_bound += lb\n",
    "    average_bound = total_bound / len(graph_series)\n",
    "    return average_bound"
   ]
  },
  {
   "cell_type": "code",
   "execution_count": 109,
   "id": "535d3849-508f-47f9-8f37-1a979f4766e0",
   "metadata": {},
   "outputs": [],
   "source": [
    "def plot_average_solution_vs_parameter(parameter_values,n,s,model,f,terms,**kwargs):\n",
    "    average_weights = []\n",
    "    average_short_path_bounds = []\n",
    "    average_k_terms_bounds = []\n",
    "    for value in parameter_values:\n",
    "        kwargs['p'] = value\n",
    "        graph_series = create_graphs(n, s, model, **kwargs)\n",
    "        average_weight = average_solution(graph_series, f, terms)\n",
    "        average_short_path_bound = average_lower_bound_shortest_path(graph_series, terms)\n",
    "        average_k_term_bound = average_lower_bound_k_terminal_steiner(graph_series, terms)\n",
    "        average_weights.append(average_weight)\n",
    "        average_short_path_bounds.append(average_short_path_bound)\n",
    "        average_k_terms_bounds.append(average_k_term_bound)\n",
    "\n",
    "    plt.plot(parameter_values, average_weights, marker='o', label='Apprix')\n",
    "    plt.plot(parameter_values, average_short_path_bounds, marker='x', linestyle='--', label='Bound shortest path')\n",
    "    plt.plot(parameter_values, average_k_terms_bounds, marker='x', linestyle='--', label='Bound k terminals')\n",
    "    plt.xlabel('Parameter Value (p)')\n",
    "    plt.ylabel('Average Weight')\n",
    "    plt.title(f'random binomial graph - Size of graphs : {s} nodes')\n",
    "    plt.legend()\n",
    "    plt.grid(True)\n",
    "    plt.show()"
   ]
  },
  {
   "cell_type": "code",
   "execution_count": 110,
   "id": "9c621724-0cae-4d12-9253-5af68e7db1b3",
   "metadata": {},
   "outputs": [],
   "source": [
    "def generate_random_terminals(T, N):\n",
    "    if N < 2:\n",
    "        raise ValueError(\"N must be at least 2.\")\n",
    "    if T > N:\n",
    "        raise ValueError(\"T must be less than or equal to N.\")\n",
    "    \n",
    "    elements = random.sample(range(N), N)\n",
    "    \n",
    "    result = elements[:T]\n",
    "    \n",
    "    return result"
   ]
  },
  {
   "cell_type": "code",
   "execution_count": 111,
   "id": "73d6eed1-2117-47b4-b1b5-41b199607ef5",
   "metadata": {},
   "outputs": [],
   "source": [
    "def plot_average_solution_vs_terminals(n,s,model,f,**kwargs):\n",
    "    average_weights = []\n",
    "    average_bounds = []\n",
    "    percentages = [0] + [p / 100 for p in range(10, 101, 10)]\n",
    "    graph_series = create_graphs(n, s, model, **kwargs)\n",
    "    for percentage in percentages:\n",
    "        num_terminals = max(2, int(s * percentage))\n",
    "        terminals = generate_random_terminals(num_terminals, s)\n",
    "        average_weight = average_solution(graph_series, f, terminals)\n",
    "        average_bound = average_lower_bound_shortest_path(graph_series, terminals)\n",
    "        average_weights.append(average_weight)\n",
    "        average_bounds.append(average_bound)\n",
    "\n",
    "    plt.plot([p * 100 for p in percentages], average_weights, marker='o', label='Apprix')\n",
    "    plt.plot([p * 100 for p in percentages], average_bounds,  marker='x', linestyle='--', label='Bound shortest path')\n",
    "    plt.xlabel('Percentage of terminals')\n",
    "    plt.ylabel('Average Weight')\n",
    "    plt.title(f'random binomial dense graph - Size of graphs : {s} nodes')\n",
    "    plt.legend()\n",
    "    plt.grid(True)\n",
    "    plt.show()"
   ]
  },
  {
   "cell_type": "code",
   "execution_count": 112,
   "id": "4340effb-0651-4938-9a56-56a3d8f96def",
   "metadata": {},
   "outputs": [
    {
     "name": "stdout",
     "output_type": "stream",
     "text": [
      "Average Lower Bound: 3.8\n",
      "Average Steiner Tree weight: 4.6\n"
     ]
    }
   ],
   "source": [
    "graph_series = create_graphs(5, 10, nx.generators.binomial_graph, p=0.5)\n",
    "terminals = [0, 1, 2, 3, 4]\n",
    "average_weight = average_solution(graph_series, two_approximation, terminals)\n",
    "average_l_bound = average_lower_bound(graph_series, terminals)\n",
    "print(f\"Average Lower Bound: {average_l_bound}\")\n",
    "print(f\"Average Steiner Tree weight: {average_weight}\")"
   ]
  },
  {
   "cell_type": "code",
   "execution_count": 113,
   "id": "cb328593-3863-434a-9034-89e5022bdd0b",
   "metadata": {
    "scrolled": true
   },
   "outputs": [
    {
     "ename": "KeyError",
     "evalue": "10",
     "output_type": "error",
     "traceback": [
      "\u001b[0;31m---------------------------------------------------------------------------\u001b[0m",
      "\u001b[0;31mKeyError\u001b[0m                                  Traceback (most recent call last)",
      "Cell \u001b[0;32mIn[113], line 5\u001b[0m\n\u001b[1;32m      3\u001b[0m nb_nodes \u001b[38;5;241m=\u001b[39m \u001b[38;5;241m50\u001b[39m\n\u001b[1;32m      4\u001b[0m terminals \u001b[38;5;241m=\u001b[39m generate_random_terminals(\u001b[38;5;241m30\u001b[39m, \u001b[38;5;241m50\u001b[39m)\n\u001b[0;32m----> 5\u001b[0m \u001b[43mplot_average_solution_vs_parameter\u001b[49m\u001b[43m(\u001b[49m\u001b[43mparameter_values\u001b[49m\u001b[43m,\u001b[49m\u001b[43m \u001b[49m\u001b[43mnb_graphs\u001b[49m\u001b[43m,\u001b[49m\u001b[43m \u001b[49m\u001b[43mnb_nodes\u001b[49m\u001b[43m,\u001b[49m\u001b[43m \u001b[49m\u001b[43mnx\u001b[49m\u001b[38;5;241;43m.\u001b[39;49m\u001b[43mgenerators\u001b[49m\u001b[38;5;241;43m.\u001b[39;49m\u001b[43mbinomial_graph\u001b[49m\u001b[43m,\u001b[49m\u001b[43m \u001b[49m\u001b[43mtwo_approximation\u001b[49m\u001b[43m,\u001b[49m\u001b[43m \u001b[49m\u001b[43mterminals\u001b[49m\u001b[43m)\u001b[49m\n",
      "Cell \u001b[0;32mIn[109], line 10\u001b[0m, in \u001b[0;36mplot_average_solution_vs_parameter\u001b[0;34m(parameter_values, n, s, model, f, terms, **kwargs)\u001b[0m\n\u001b[1;32m      8\u001b[0m average_weight \u001b[38;5;241m=\u001b[39m average_solution(graph_series, f, terms)\n\u001b[1;32m      9\u001b[0m average_short_path_bound \u001b[38;5;241m=\u001b[39m average_lower_bound_shortest_path(graph_series, terms)\n\u001b[0;32m---> 10\u001b[0m average_k_term_bound \u001b[38;5;241m=\u001b[39m \u001b[43maverage_lower_bound_k_terminal_steiner\u001b[49m\u001b[43m(\u001b[49m\u001b[43mgraph_series\u001b[49m\u001b[43m,\u001b[49m\u001b[43m \u001b[49m\u001b[43mterms\u001b[49m\u001b[43m)\u001b[49m\n\u001b[1;32m     11\u001b[0m average_weights\u001b[38;5;241m.\u001b[39mappend(average_weight)\n\u001b[1;32m     12\u001b[0m average_short_path_bounds\u001b[38;5;241m.\u001b[39mappend(average_short_path_bound)\n",
      "Cell \u001b[0;32mIn[106], line 4\u001b[0m, in \u001b[0;36maverage_lower_bound_k_terminal_steiner\u001b[0;34m(graph_series, terms)\u001b[0m\n\u001b[1;32m      2\u001b[0m total_bound \u001b[38;5;241m=\u001b[39m \u001b[38;5;241m0\u001b[39m\n\u001b[1;32m      3\u001b[0m \u001b[38;5;28;01mfor\u001b[39;00m G \u001b[38;5;129;01min\u001b[39;00m graph_series:\n\u001b[0;32m----> 4\u001b[0m     lb \u001b[38;5;241m=\u001b[39m \u001b[43mlower_bound_k_terminal_steiner\u001b[49m\u001b[43m(\u001b[49m\u001b[43mG\u001b[49m\u001b[43m,\u001b[49m\u001b[43m \u001b[49m\u001b[43mterms\u001b[49m\u001b[43m)\u001b[49m\n\u001b[1;32m      5\u001b[0m     total_bound \u001b[38;5;241m+\u001b[39m\u001b[38;5;241m=\u001b[39m lb\n\u001b[1;32m      6\u001b[0m average_bound \u001b[38;5;241m=\u001b[39m total_bound \u001b[38;5;241m/\u001b[39m \u001b[38;5;28mlen\u001b[39m(graph_series)\n",
      "Cell \u001b[0;32mIn[105], line 8\u001b[0m, in \u001b[0;36mlower_bound_k_terminal_steiner\u001b[0;34m(G, terms)\u001b[0m\n\u001b[1;32m      6\u001b[0m min_bound \u001b[38;5;241m=\u001b[39m \u001b[38;5;28mfloat\u001b[39m(\u001b[38;5;124m'\u001b[39m\u001b[38;5;124minf\u001b[39m\u001b[38;5;124m'\u001b[39m)\n\u001b[1;32m      7\u001b[0m \u001b[38;5;28;01mfor\u001b[39;00m comb \u001b[38;5;129;01min\u001b[39;00m combinations(terms, \u001b[38;5;241m3\u001b[39m):\n\u001b[0;32m----> 8\u001b[0m     bound \u001b[38;5;241m=\u001b[39m \u001b[43mthree_terminal_steiner_tree\u001b[49m\u001b[43m(\u001b[49m\u001b[43mG\u001b[49m\u001b[43m,\u001b[49m\u001b[43m \u001b[49m\u001b[43mcomb\u001b[49m\u001b[43m[\u001b[49m\u001b[38;5;241;43m0\u001b[39;49m\u001b[43m]\u001b[49m\u001b[43m,\u001b[49m\u001b[43m \u001b[49m\u001b[43mcomb\u001b[49m\u001b[43m[\u001b[49m\u001b[38;5;241;43m1\u001b[39;49m\u001b[43m]\u001b[49m\u001b[43m,\u001b[49m\u001b[43m \u001b[49m\u001b[43mcomb\u001b[49m\u001b[43m[\u001b[49m\u001b[38;5;241;43m2\u001b[39;49m\u001b[43m]\u001b[49m\u001b[43m)\u001b[49m\n\u001b[1;32m      9\u001b[0m     min_bound \u001b[38;5;241m=\u001b[39m \u001b[38;5;28mmin\u001b[39m(min_bound, bound)\n\u001b[1;32m     11\u001b[0m \u001b[38;5;28;01mreturn\u001b[39;00m min_bound\n",
      "Cell \u001b[0;32mIn[104], line 23\u001b[0m, in \u001b[0;36mthree_terminal_steiner_tree\u001b[0;34m(G, t0, t1, t2)\u001b[0m\n\u001b[1;32m     21\u001b[0m total_cost_1 \u001b[38;5;241m=\u001b[39m \u001b[38;5;28msum\u001b[39m(G[u][v]\u001b[38;5;241m.\u001b[39mget(\u001b[38;5;124m'\u001b[39m\u001b[38;5;124mweight\u001b[39m\u001b[38;5;124m'\u001b[39m, \u001b[38;5;241m1\u001b[39m) \u001b[38;5;28;01mfor\u001b[39;00m u, v \u001b[38;5;129;01min\u001b[39;00m \u001b[38;5;28mzip\u001b[39m(tree_1[:\u001b[38;5;241m-\u001b[39m\u001b[38;5;241m1\u001b[39m], tree_1[\u001b[38;5;241m1\u001b[39m:]))\n\u001b[1;32m     22\u001b[0m total_cost_2 \u001b[38;5;241m=\u001b[39m \u001b[38;5;28msum\u001b[39m(G[u][v]\u001b[38;5;241m.\u001b[39mget(\u001b[38;5;124m'\u001b[39m\u001b[38;5;124mweight\u001b[39m\u001b[38;5;124m'\u001b[39m, \u001b[38;5;241m1\u001b[39m) \u001b[38;5;28;01mfor\u001b[39;00m u, v \u001b[38;5;129;01min\u001b[39;00m \u001b[38;5;28mzip\u001b[39m(tree_2[:\u001b[38;5;241m-\u001b[39m\u001b[38;5;241m1\u001b[39m], tree_2[\u001b[38;5;241m1\u001b[39m:]))\n\u001b[0;32m---> 23\u001b[0m total_cost_3 \u001b[38;5;241m=\u001b[39m \u001b[38;5;28;43msum\u001b[39;49m\u001b[43m(\u001b[49m\u001b[43mG\u001b[49m\u001b[43m[\u001b[49m\u001b[43mu\u001b[49m\u001b[43m]\u001b[49m\u001b[43m[\u001b[49m\u001b[43mv\u001b[49m\u001b[43m]\u001b[49m\u001b[38;5;241;43m.\u001b[39;49m\u001b[43mget\u001b[49m\u001b[43m(\u001b[49m\u001b[38;5;124;43m'\u001b[39;49m\u001b[38;5;124;43mweight\u001b[39;49m\u001b[38;5;124;43m'\u001b[39;49m\u001b[43m,\u001b[49m\u001b[43m \u001b[49m\u001b[38;5;241;43m1\u001b[39;49m\u001b[43m)\u001b[49m\u001b[43m \u001b[49m\u001b[38;5;28;43;01mfor\u001b[39;49;00m\u001b[43m \u001b[49m\u001b[43mu\u001b[49m\u001b[43m,\u001b[49m\u001b[43m \u001b[49m\u001b[43mv\u001b[49m\u001b[43m \u001b[49m\u001b[38;5;129;43;01min\u001b[39;49;00m\u001b[43m \u001b[49m\u001b[38;5;28;43mzip\u001b[39;49m\u001b[43m(\u001b[49m\u001b[43mtree_3\u001b[49m\u001b[43m[\u001b[49m\u001b[43m:\u001b[49m\u001b[38;5;241;43m-\u001b[39;49m\u001b[38;5;241;43m1\u001b[39;49m\u001b[43m]\u001b[49m\u001b[43m,\u001b[49m\u001b[43m \u001b[49m\u001b[43mtree_3\u001b[49m\u001b[43m[\u001b[49m\u001b[38;5;241;43m1\u001b[39;49m\u001b[43m:\u001b[49m\u001b[43m]\u001b[49m\u001b[43m)\u001b[49m\u001b[43m)\u001b[49m\n\u001b[1;32m     26\u001b[0m \u001b[38;5;28;01mif\u001b[39;00m total_cost_1 \u001b[38;5;241m<\u001b[39m\u001b[38;5;241m=\u001b[39m total_cost_2 \u001b[38;5;129;01mand\u001b[39;00m total_cost_1 \u001b[38;5;241m<\u001b[39m\u001b[38;5;241m=\u001b[39m total_cost_3:\n\u001b[1;32m     27\u001b[0m     \u001b[38;5;28;01mreturn\u001b[39;00m total_cost_1, tree_1\n",
      "Cell \u001b[0;32mIn[104], line 23\u001b[0m, in \u001b[0;36m<genexpr>\u001b[0;34m(.0)\u001b[0m\n\u001b[1;32m     21\u001b[0m total_cost_1 \u001b[38;5;241m=\u001b[39m \u001b[38;5;28msum\u001b[39m(G[u][v]\u001b[38;5;241m.\u001b[39mget(\u001b[38;5;124m'\u001b[39m\u001b[38;5;124mweight\u001b[39m\u001b[38;5;124m'\u001b[39m, \u001b[38;5;241m1\u001b[39m) \u001b[38;5;28;01mfor\u001b[39;00m u, v \u001b[38;5;129;01min\u001b[39;00m \u001b[38;5;28mzip\u001b[39m(tree_1[:\u001b[38;5;241m-\u001b[39m\u001b[38;5;241m1\u001b[39m], tree_1[\u001b[38;5;241m1\u001b[39m:]))\n\u001b[1;32m     22\u001b[0m total_cost_2 \u001b[38;5;241m=\u001b[39m \u001b[38;5;28msum\u001b[39m(G[u][v]\u001b[38;5;241m.\u001b[39mget(\u001b[38;5;124m'\u001b[39m\u001b[38;5;124mweight\u001b[39m\u001b[38;5;124m'\u001b[39m, \u001b[38;5;241m1\u001b[39m) \u001b[38;5;28;01mfor\u001b[39;00m u, v \u001b[38;5;129;01min\u001b[39;00m \u001b[38;5;28mzip\u001b[39m(tree_2[:\u001b[38;5;241m-\u001b[39m\u001b[38;5;241m1\u001b[39m], tree_2[\u001b[38;5;241m1\u001b[39m:]))\n\u001b[0;32m---> 23\u001b[0m total_cost_3 \u001b[38;5;241m=\u001b[39m \u001b[38;5;28msum\u001b[39m(\u001b[43mG\u001b[49m\u001b[43m[\u001b[49m\u001b[43mu\u001b[49m\u001b[43m]\u001b[49m\u001b[43m[\u001b[49m\u001b[43mv\u001b[49m\u001b[43m]\u001b[49m\u001b[38;5;241m.\u001b[39mget(\u001b[38;5;124m'\u001b[39m\u001b[38;5;124mweight\u001b[39m\u001b[38;5;124m'\u001b[39m, \u001b[38;5;241m1\u001b[39m) \u001b[38;5;28;01mfor\u001b[39;00m u, v \u001b[38;5;129;01min\u001b[39;00m \u001b[38;5;28mzip\u001b[39m(tree_3[:\u001b[38;5;241m-\u001b[39m\u001b[38;5;241m1\u001b[39m], tree_3[\u001b[38;5;241m1\u001b[39m:]))\n\u001b[1;32m     26\u001b[0m \u001b[38;5;28;01mif\u001b[39;00m total_cost_1 \u001b[38;5;241m<\u001b[39m\u001b[38;5;241m=\u001b[39m total_cost_2 \u001b[38;5;129;01mand\u001b[39;00m total_cost_1 \u001b[38;5;241m<\u001b[39m\u001b[38;5;241m=\u001b[39m total_cost_3:\n\u001b[1;32m     27\u001b[0m     \u001b[38;5;28;01mreturn\u001b[39;00m total_cost_1, tree_1\n",
      "File \u001b[0;32m/Library/Frameworks/Python.framework/Versions/3.12/lib/python3.12/site-packages/networkx/classes/coreviews.py:54\u001b[0m, in \u001b[0;36mAtlasView.__getitem__\u001b[0;34m(self, key)\u001b[0m\n\u001b[1;32m     53\u001b[0m \u001b[38;5;28;01mdef\u001b[39;00m \u001b[38;5;21m__getitem__\u001b[39m(\u001b[38;5;28mself\u001b[39m, key):\n\u001b[0;32m---> 54\u001b[0m     \u001b[38;5;28;01mreturn\u001b[39;00m \u001b[38;5;28;43mself\u001b[39;49m\u001b[38;5;241;43m.\u001b[39;49m\u001b[43m_atlas\u001b[49m\u001b[43m[\u001b[49m\u001b[43mkey\u001b[49m\u001b[43m]\u001b[49m\n",
      "\u001b[0;31mKeyError\u001b[0m: 10"
     ]
    }
   ],
   "source": [
    "parameter_values = [0.1, 0.2, 0.3, 0.4, 0.5, 0.6, 0.7, 0.8, 0.9]\n",
    "nb_graphs = 50\n",
    "nb_nodes = 50\n",
    "terminals = generate_random_terminals(30, 50)\n",
    "plot_average_solution_vs_parameter(parameter_values, nb_graphs, nb_nodes, nx.generators.binomial_graph, two_approximation, terminals)"
   ]
  },
  {
   "cell_type": "code",
   "execution_count": 93,
   "id": "5899b7d4-4d34-44cd-9e3c-b0722f081594",
   "metadata": {},
   "outputs": [
    {
     "data": {
      "image/png": "[encoded data removed]",
      "text/plain": [
       "<Figure size 640x480 with 1 Axes>"
      ]
     },
     "metadata": {},
     "output_type": "display_data"
    }
   ],
   "source": [
    "nb_graphs = 50\n",
    "nb_nodes = 50\n",
    "plot_average_solution_vs_terminals(nb_graphs,nb_nodes,nx.generators.binomial_graph,two_approximation, p = 0.7)"
   ]
  },
  {
   "cell_type": "code",
   "execution_count": null,
   "id": "d9d16cb8-faad-4e9c-9b50-71655d22bfd1",
   "metadata": {},
   "outputs": [],
   "source": []
  }
 ],
 "metadata": {
  "kernelspec": {
   "display_name": "Python 3 (ipykernel)",
   "language": "python",
   "name": "python3"
  },
  "language_info": {
   "codemirror_mode": {
    "name": "ipython",
    "version": 3
   },
   "file_extension": ".py",
   "mimetype": "text/x-python",
   "name": "python",
   "nbconvert_exporter": "python",
   "pygments_lexer": "ipython3",
   "version": "3.12.0"
  }
 },
 "nbformat": 4,
 "nbformat_minor": 5
}
