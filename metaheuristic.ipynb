{
 "cells": [
  {
   "cell_type": "code",
   "execution_count": 76,
   "id": "8e8faeed-23b4-4813-8e2b-e02eb3441b0a",
   "metadata": {},
   "outputs": [],
   "source": [
    "import random\n",
    "import networkx as nx\n",
    "import matplotlib.pyplot as plt\n",
    "import numpy as np\n",
    "from steinlib.instance import SteinlibInstance \n",
    "from steinlib.parser import SteinlibParser"
   ]
  },
  {
   "cell_type": "code",
   "execution_count": 80,
   "id": "b58dca6c-fefe-4f19-bc47-b4b6ba692763",
   "metadata": {},
   "outputs": [],
   "source": [
    "class MySteinlibInstance(SteinlibInstance): \n",
    "    def __init__(self):\n",
    "        self.my_graph = nx.Graph() \n",
    "        self.terms = []\n",
    "        \n",
    "    def terminals__t(self, line, converted_token): \n",
    "        self.terms.append(converted_token[0])\n",
    "        \n",
    "    def graph__e(self, line, converted_token):\n",
    "        e_start = converted_token [0]\n",
    "        e_end   = converted_token [1]\n",
    "        weight  = converted_token [2]\n",
    "        self.my_graph.add_edge(e_start , e_end , weight=weight)"
   ]
  },
  {
   "cell_type": "code",
   "execution_count": 82,
   "id": "25d7df82-bac1-4fa9-be44-23914459dbcd",
   "metadata": {},
   "outputs": [],
   "source": [
    "def load_B04 ():\n",
    "    stein_file = \"data/B/b04.stp\" \n",
    "    my_class = MySteinlibInstance() \n",
    "    with open(stein_file) as my_file:\n",
    "        my_parser = SteinlibParser(my_file , my_class) \n",
    "        my_parser.parse()\n",
    "        terms = my_class.terms\n",
    "        graph = my_class.my_graph\n",
    "    return graph , terms\n"
   ]
  },
  {
   "cell_type": "code",
   "execution_count": 2,
   "id": "4c9ce212-6a33-4b3d-85f7-6474f7c97bc5",
   "metadata": {},
   "outputs": [],
   "source": [
    "def create_graphs(n,s,model,**kwargs):\n",
    "    Graphs = []\n",
    "    while len(Graphs) < n:\n",
    "        G = model(s,**kwargs)\n",
    "        while nx.is_connected(G) is False:\n",
    "            G = model(s,**kwargs)\n",
    "        Graphs.append(G)\n",
    "    return Graphs"
   ]
  },
  {
   "cell_type": "code",
   "execution_count": 3,
   "id": "478bcbc0-f06e-437e-afd2-70fa8519793d",
   "metadata": {},
   "outputs": [],
   "source": [
    "def lower_bound_optimal_solution(G,terms):\n",
    "    shortest_path_bound = 0\n",
    "    for i in range(len(terms)):\n",
    "        for j in range(i + 1, len(terms)):\n",
    "            path_length = nx.shortest_path_length(G, source=terms[i], target=terms[j], weight='weight')\n",
    "            shortest_path_bound = max(shortest_path_bound, path_length)\n",
    "    return shortest_path_bound"
   ]
  },
  {
   "cell_type": "code",
   "execution_count": 4,
   "id": "3645651b-e76d-4ba1-85cb-2478e51b0b9f",
   "metadata": {},
   "outputs": [],
   "source": [
    "def average_lower_bound(graph_series,terms):\n",
    "    total_bound = 0\n",
    "    for G in graph_series:\n",
    "        lb = lower_bound_optimal_solution(G, terms)\n",
    "        total_bound += lb\n",
    "    average_bound = total_bound / len(graph_series)\n",
    "    return average_bound"
   ]
  },
  {
   "cell_type": "code",
   "execution_count": 12,
   "id": "4586c59c-7e31-4740-a87d-4203a425bf57",
   "metadata": {},
   "outputs": [],
   "source": [
    "def eval_sol(graph, terminals, sol) -> float:\n",
    "    graph_sol = nx.Graph()\n",
    "    for (i, j) in sol:\n",
    "        if (i, j) in graph_sol.edges:\n",
    "            graph_sol[i][j]['weight'] = 1 + graph_sol[i][j].get('weight', 1)\n",
    "        else:\n",
    "            graph_sol.add_edge(i, j, weight=graph[i][j].get('weight', 1))\n",
    "\n",
    "    if not nx.is_tree(graph_sol):\n",
    "        print (\"Error: the proposed solution is not a tree\")\n",
    "        return -1\n",
    "\n",
    "    for i in terminals:\n",
    "        if not i in graph_sol:\n",
    "            print (\"Error: a terminal is missing from the solution\")\n",
    "            return -1\n",
    "\n",
    "    cost = graph_sol.size(weight='weight')\n",
    "    return cost"
   ]
  },
  {
   "cell_type": "code",
   "execution_count": 32,
   "id": "c4f50e3e-4e42-475a-8b44-b5516520f7d3",
   "metadata": {},
   "outputs": [],
   "source": [
    "def two_approximation(G, terms):\n",
    "    # Step 1: Create the complete graph K using shortest paths between all terminal pairs\n",
    "    K = nx.Graph()\n",
    "    shortest_paths = {}\n",
    "    for u in terms:\n",
    "        for v in terms:\n",
    "            if u != v:\n",
    "                length, path = nx.single_source_dijkstra(G, u, target=v)\n",
    "                K.add_edge(u, v, weight=length)\n",
    "                shortest_paths[(u, v)] = path\n",
    "\n",
    "    # Step 2: Compute the Minimum Spanning Tree A from graph K\n",
    "    A = nx.minimum_spanning_tree(K, algorithm=\"kruskal\")\n",
    "\n",
    "    # Step 3: Unfold shortest path edges in G for each edge (u, v) in A\n",
    "    steiner_edges = []\n",
    "    for u, v in A.edges():\n",
    "        path = shortest_paths[(u, v)]\n",
    "        \n",
    "        for i in range(len(path) - 1):\n",
    "            steiner_edges.append((path[i], path[i + 1]))\n",
    "\n",
    "    return steiner_edges"
   ]
  },
  {
   "cell_type": "code",
   "execution_count": 48,
   "id": "715ea6be-819e-44a9-aff3-01da7b8d3e1c",
   "metadata": {},
   "outputs": [],
   "source": [
    "def generate_initial_steiner_tree(G, terminals):\n",
    "    steiner_edges = two_approximation(G, terminals)\n",
    "    steiner_tree = nx.Graph()\n",
    "    steiner_tree.add_edges_from(steiner_edges)\n",
    "    return steiner_tree\n"
   ]
  },
  {
   "cell_type": "code",
   "execution_count": 40,
   "id": "8a6227ac-1043-41b3-825b-489d746bf33c",
   "metadata": {},
   "outputs": [],
   "source": [
    "def prune_tree(tree, terminals):\n",
    "    nodes_to_remove = [node for node in tree.nodes()\n",
    "                       if tree.degree(node) == 1 and node not in terminals]\n",
    "    while nodes_to_remove:\n",
    "        tree.remove_nodes_from(nodes_to_remove)\n",
    "        nodes_to_remove = [node for node in tree.nodes()\n",
    "                           if tree.degree(node) == 1 and node not in terminals]\n",
    "    return tree"
   ]
  },
  {
   "cell_type": "code",
   "execution_count": 68,
   "id": "ded1fe97-44e8-4717-b342-beb8632bf6d3",
   "metadata": {},
   "outputs": [],
   "source": [
    "def rand_neighbor(G, current_solution, terminals):\n",
    "    new_solution = current_solution.copy()\n",
    "    \n",
    "    operation = random.choice([\"add_node\", \"remove_edge\", \"swap_edge\", \"prune_leaf\"])\n",
    "    if operation == \"add_node\":\n",
    "        non_tree_nodes = set(G.nodes) - set(new_solution.nodes)\n",
    "        if non_tree_nodes:\n",
    "            new_node = random.choice(list(non_tree_nodes))\n",
    "            neighbor_nodes = [n for n in new_solution.nodes if G.has_edge(n, new_node)]\n",
    "            if neighbor_nodes:\n",
    "                neighbor = random.choice(neighbor_nodes)\n",
    "                weight = G[neighbor][new_node].get('weight', 1)\n",
    "                new_solution.add_edge(neighbor, new_node, weight=weight)\n",
    "\n",
    "    elif operation == \"remove_edge\":\n",
    "        removable_edges = [(u, v) for u, v in new_solution.edges()\n",
    "                           if new_solution.degree(u) > 1 and new_solution.degree(v) > 1\n",
    "                           and u not in terminals and v not in terminals]\n",
    "        if removable_edges:\n",
    "            edge_to_remove = random.choice(removable_edges)\n",
    "            new_solution.remove_edge(*edge_to_remove)\n",
    "            if not nx.is_connected(new_solution):\n",
    "                new_solution.add_edge(*edge_to_remove)\n",
    "\n",
    "    elif operation == \"swap_edge\":\n",
    "        u, v = random.choice(list(new_solution.edges()))\n",
    "        new_solution.remove_edge(u, v)\n",
    "        try:\n",
    "            path = nx.shortest_path(G, source=u, target=v, weight='weight')\n",
    "            nx.add_path(new_solution, path)\n",
    "        except nx.NetworkXNoPath:\n",
    "            weight = G[u][v].get('weight', 1)\n",
    "            new_solution.add_edge(u, v, weight=weight)\n",
    "            \n",
    "    elif operation == \"prune_leaf\":\n",
    "        new_solution = prune_tree(new_solution, terminals)\n",
    "        \n",
    "    if nx.is_tree(new_solution) and all(term in new_solution.nodes for term in terminals):\n",
    "        return new_solution\n",
    "    else:\n",
    "        return current_solution"
   ]
  },
  {
   "cell_type": "code",
   "execution_count": 69,
   "id": "7c02257f-37c0-4cc3-9ae2-647ddfd4d960",
   "metadata": {},
   "outputs": [],
   "source": [
    "def simulated_annealing(G, terms, T_init=None, T_end=1e-3, max_iterations=1000):\n",
    "    if T_init is None:\n",
    "        T_init = 10 * len(G.edges())\n",
    "    current_solution = generate_initial_steiner_tree(G, terms)\n",
    "    if current_solution is None:\n",
    "        raise ValueError(\"Failed to generate a valid initial Steiner tree.\")\n",
    "        \n",
    "    current_weight = eval_sol(G, terms, current_solution.edges())\n",
    "    best_solution = current_solution.copy()\n",
    "    best_weight = current_weight\n",
    "    iteration = 0\n",
    "    accept_count = 0\n",
    "    T = T_init\n",
    "    while iteration < max_iterations and T > T_end:\n",
    "        new_solution = rand_neighbor(G, current_solution, terms)    \n",
    "        new_weight = eval_sol(G, terms, new_solution.edges())\n",
    "        \n",
    "        if new_weight < current_weight:\n",
    "            proba = 1\n",
    "        else:\n",
    "            proba = np.exp((current_weight - new_weight) / T)\n",
    "            \n",
    "        if random.uniform(0, 1) < proba:\n",
    "            current_solution = new_solution\n",
    "            current_weight = new_weight\n",
    "            accept_count += 1\n",
    "            \n",
    "            if current_weight < best_weight:\n",
    "                best_solution = current_solution\n",
    "                best_weight = current_weight\n",
    "        \n",
    "        iteration += 1\n",
    "        T = T_init / (1 + iteration)\n",
    "                    \n",
    "        if iteration % 100 == 0:\n",
    "            acceptance_ratio = accept_count / 100\n",
    "            accept_count = 0\n",
    "            if acceptance_ratio < 0.05:\n",
    "                T *= 0.9  # Cool down faster if acceptance is low\n",
    "            elif acceptance_ratio > 0.6:\n",
    "                T *= 1.1  # Cool down slower if acceptance is high\n",
    "\n",
    "    return best_solution, best_weight\n"
   ]
  },
  {
   "cell_type": "code",
   "execution_count": 70,
   "id": "e714d736-fa00-4f64-82c6-88020a94ffb8",
   "metadata": {},
   "outputs": [],
   "source": [
    "def average_initial_solution(Graphs,f,terms):\n",
    "    total_weight = 0\n",
    "    for G in Graphs:\n",
    "        weight = eval_sol(G,terms,f(G,terms))\n",
    "        total_weight += weight\n",
    "    average_weight = total_weight / len(Graphs)\n",
    "    return average_weight"
   ]
  },
  {
   "cell_type": "code",
   "execution_count": 71,
   "id": "9dfd14f2-debb-4ccc-94d3-d89213d0114c",
   "metadata": {},
   "outputs": [],
   "source": [
    "def average_solution(Graphs,terms,T_init=100,T_end=1,nb_iter_per_temp=50):\n",
    "    total_weight = 0\n",
    "    for G in Graphs: \n",
    "        _, weight = simulated_annealing(G, terms, T_init, T_end, nb_iter_per_temp)\n",
    "        total_weight += weight\n",
    "    average_weight = total_weight / len(Graphs)\n",
    "    return average_weight"
   ]
  },
  {
   "cell_type": "code",
   "execution_count": 72,
   "id": "76e3ed54-f230-4f26-b539-5b6b43161070",
   "metadata": {},
   "outputs": [
    {
     "name": "stdout",
     "output_type": "stream",
     "text": [
      "Average Lower Bound: 2.0\n",
      "Average Initial Steiner Tree weight: 4.4\n",
      "Average Steiner Tree weight: 4.36\n"
     ]
    }
   ],
   "source": [
    "graph_series = create_graphs(50, 50, nx.generators.binomial_graph, p=0.5)\n",
    "terminals = [0, 1, 2, 3, 4]\n",
    "average_initial_weight = average_initial_solution(graph_series, two_approximation, terminals)\n",
    "average_weight = average_solution(graph_series,terminals)\n",
    "average_l_bound = average_lower_bound(graph_series, terminals)\n",
    "print(f\"Average Lower Bound: {average_l_bound}\")\n",
    "print(f\"Average Initial Steiner Tree weight: {average_initial_weight}\")\n",
    "print(f\"Average Steiner Tree weight: {average_weight}\")"
   ]
  },
  {
   "cell_type": "code",
   "execution_count": null,
   "id": "8fee3900-a730-4e19-8364-b4122c3e67f7",
   "metadata": {},
   "outputs": [],
   "source": []
  },
  {
   "cell_type": "code",
   "execution_count": null,
   "id": "189c83a1-d36a-4b5b-b20b-f71e7832027d",
   "metadata": {},
   "outputs": [],
   "source": []
  }
 ],
 "metadata": {
  "kernelspec": {
   "display_name": "Python 3 (ipykernel)",
   "language": "python",
   "name": "python3"
  },
  "language_info": {
   "codemirror_mode": {
    "name": "ipython",
    "version": 3
   },
   "file_extension": ".py",
   "mimetype": "text/x-python",
   "name": "python",
   "nbconvert_exporter": "python",
   "pygments_lexer": "ipython3",
   "version": "3.12.0"
  }
 },
 "nbformat": 4,
 "nbformat_minor": 5
}
