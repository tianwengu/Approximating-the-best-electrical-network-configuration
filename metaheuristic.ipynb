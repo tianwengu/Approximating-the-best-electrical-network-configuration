{
 "cells": [
  {
   "cell_type": "code",
   "execution_count": 139,
   "id": "8e8faeed-23b4-4813-8e2b-e02eb3441b0a",
   "metadata": {},
   "outputs": [],
   "source": [
    "import random\n",
    "import networkx as nx\n",
    "import matplotlib.pyplot as plt\n",
    "import numpy as np"
   ]
  },
  {
   "cell_type": "code",
   "execution_count": 140,
   "id": "4c9ce212-6a33-4b3d-85f7-6474f7c97bc5",
   "metadata": {},
   "outputs": [],
   "source": [
    "def create_graphs(n,s,model,**kwargs):\n",
    "    Graphs = []\n",
    "    while len(Graphs) < n:\n",
    "        G = model(s,**kwargs)\n",
    "        while nx.is_connected(G) is False:\n",
    "            G = model(s,**kwargs)\n",
    "        Graphs.append(G)\n",
    "    return Graphs"
   ]
  },
  {
   "cell_type": "code",
   "execution_count": 142,
   "id": "478bcbc0-f06e-437e-afd2-70fa8519793d",
   "metadata": {},
   "outputs": [],
   "source": [
    "def lower_bound_optimal_solution(G,terms):\n",
    "    shortest_path_bound = 0\n",
    "    for i in range(len(terms)):\n",
    "        for j in range(i + 1, len(terms)):\n",
    "            path_length = nx.shortest_path_length(G, source=terms[i], target=terms[j], weight='weight')\n",
    "            shortest_path_bound = max(shortest_path_bound, path_length)\n",
    "    return shortest_path_bound"
   ]
  },
  {
   "cell_type": "code",
   "execution_count": 160,
   "id": "3645651b-e76d-4ba1-85cb-2478e51b0b9f",
   "metadata": {},
   "outputs": [],
   "source": [
    "def average_lower_bound(graph_series,terms):\n",
    "    total_bound = 0\n",
    "    for G in graph_series:\n",
    "        lb = lower_bound_optimal_solution(G, terms)\n",
    "        total_bound += lb\n",
    "    average_bound = total_bound / len(graph_series)\n",
    "    return average_bound"
   ]
  },
  {
   "cell_type": "code",
   "execution_count": 208,
   "id": "4586c59c-7e31-4740-a87d-4203a425bf57",
   "metadata": {},
   "outputs": [],
   "source": [
    "def eval_sol(graph, terminals, sol) -> float:\n",
    "    graph_sol = nx.Graph()\n",
    "    for (i, j) in sol:\n",
    "        if (i, j) in graph_sol.edges:\n",
    "            graph_sol[i][j]['weight'] = 1 + graph_sol[i][j].get('weight', 1)\n",
    "        else:\n",
    "            graph_sol.add_edge(i, j, weight=graph[i][j].get('weight', 1))\n",
    "\n",
    "    if not nx.is_tree(graph_sol):\n",
    "        print (\"Error: the proposed solution is not a tree\")\n",
    "        return -1\n",
    "\n",
    "    for i in terminals:\n",
    "        if not i in graph_sol:\n",
    "            print (\"Error: a terminal is missing from the solution\")\n",
    "            return -1\n",
    "\n",
    "    cost = graph_sol.size(weight='weight')\n",
    "    return cost"
   ]
  },
  {
   "cell_type": "code",
   "execution_count": 221,
   "id": "715ea6be-819e-44a9-aff3-01da7b8d3e1c",
   "metadata": {},
   "outputs": [],
   "source": [
    "def generate_initial_steiner_tree(G, terminals):\n",
    "    tree = nx.Graph()\n",
    "    tree.add_nodes_from(terminals)\n",
    "\n",
    "    for i in range(len(terminals)):\n",
    "        for j in range(i + 1, len(terminals)):\n",
    "            u = terminals[i]\n",
    "            v = terminals[j]\n",
    "            path = nx.shortest_path(G, source=u, target=v, weight='weight')\n",
    "            nx.add_path(tree, path)\n",
    "    if nx.is_tree(tree) and all(term in tree.nodes for term in terminals):\n",
    "        return tree\n",
    "    else:\n",
    "        tree = nx.minimum_spanning_tree(tree, weight='weight')\n",
    "        if nx.is_tree(tree) and all(term in tree.nodes for term in terminals):\n",
    "            return tree\n",
    "        else:\n",
    "            return None\n",
    "\n"
   ]
  },
  {
   "cell_type": "code",
   "execution_count": 222,
   "id": "ded1fe97-44e8-4717-b342-beb8632bf6d3",
   "metadata": {},
   "outputs": [],
   "source": [
    "def rand_neighbor(G, current_solution, terminals):\n",
    "    new_solution = current_solution.copy()\n",
    "    \n",
    "    operation = random.choice([\"add_steiner_point\", \"prune_leaf\"])\n",
    "    if operation == \"prune_leaf\":\n",
    "        # Remove a non-terminal leaf node\n",
    "        leaf_nodes = [node for node in new_solution.nodes if new_solution.degree(node) == 1 and node not in terminals]\n",
    "        if leaf_nodes:\n",
    "            node_to_remove = random.choice(leaf_nodes)\n",
    "            new_solution.remove_node(node_to_remove)\n",
    "        \n",
    "    elif operation == \"add_steiner_point\":\n",
    "        # Add a non-terminal node to introduce a potential Steiner point\n",
    "        non_terminal_nodes = set(G.nodes) - set(new_solution.nodes)\n",
    "        if non_terminal_nodes:\n",
    "            new_node = random.choice(list(non_terminal_nodes))\n",
    "            connected = False\n",
    "            attempt_limit = 20\n",
    "            attempts = 0\n",
    "            while not connected and attempts < attempt_limit:\n",
    "                if len(new_solution.nodes) > 1:\n",
    "                    node1, node2 = random.sample(list(new_solution.nodes), 2)\n",
    "                    if not nx.has_path(new_solution, node1, node2):\n",
    "                        if G.has_edge(node1, new_node) and G.has_edge(new_node, node2):\n",
    "                            weight_1 = G.edges[node1, new_node].get('weight', 1)\n",
    "                            weight_2 = G.edges[new_node, node2].get('weight', 1)\n",
    "                            new_solution.add_node(new_node)\n",
    "                            new_solution.add_edge(node1, new_node, weight=weight_1)\n",
    "                            new_solution.add_edge(new_node, node2, weight=weight_2)\n",
    "                            connected = True\n",
    "                attempts += 1\n",
    "                \n",
    "    if nx.is_tree(new_solution) and nx.is_connected(new_solution) and all(term in new_solution.nodes for term in terminals):\n",
    "        return new_solution\n",
    "    else:\n",
    "        return current_solution"
   ]
  },
  {
   "cell_type": "code",
   "execution_count": 223,
   "id": "7c02257f-37c0-4cc3-9ae2-647ddfd4d960",
   "metadata": {},
   "outputs": [],
   "source": [
    "def simulated_annealing(G, terms, T_init, T_end, nb_iter_per_temp):\n",
    "    current_solution = generate_initial_steiner_tree(G, terms)\n",
    "    if current_solution is None:\n",
    "        raise ValueError(\"Failed to generate a valid initial Steiner tree.\")\n",
    "    current_weight = eval_sol(G, terms, current_solution.edges())\n",
    "    best_solution = current_solution.copy()\n",
    "    best_weight = current_weight\n",
    "    k_max = 1000\n",
    "    k = 0\n",
    "    T = T_init\n",
    "    while k < k_max and T > T_end:\n",
    "        T = T_init * ((T_end / T_init) ** (k / k_max))\n",
    "        for _ in range(nb_iter_per_temp):  \n",
    "            new_solution = rand_neighbor(G, current_solution, terms)    \n",
    "            new_weight = eval_sol(G, terms, new_solution.edges())\n",
    "\n",
    "            # Accept new solution with probability based on temperature\n",
    "            if new_weight < current_weight:\n",
    "                proba = 1\n",
    "            else:\n",
    "                proba = np.exp((current_weight - new_weight) / T)\n",
    "            if random.uniform(0, 1) < proba:\n",
    "                current_solution = new_solution\n",
    "                current_weight = new_weight\n",
    "                if current_weight < best_weight:\n",
    "                    best_solution = current_solution\n",
    "                    best_weight = current_weight\n",
    "                    \n",
    "        k += 1\n",
    "\n",
    "    return best_solution, best_weight\n"
   ]
  },
  {
   "cell_type": "code",
   "execution_count": 224,
   "id": "9dfd14f2-debb-4ccc-94d3-d89213d0114c",
   "metadata": {},
   "outputs": [],
   "source": [
    "def average_solution(Graphs,terms,T_init=100,T_end=1,nb_iter_per_temp=50):\n",
    "    total_weight = 0\n",
    "    for G in Graphs: \n",
    "        _, weight = simulated_annealing(G, terms, T_init, T_end, nb_iter_per_temp)\n",
    "        total_weight += weight\n",
    "    average_weight = total_weight / len(Graphs)\n",
    "    return average_weight"
   ]
  },
  {
   "cell_type": "code",
   "execution_count": 226,
   "id": "76e3ed54-f230-4f26-b539-5b6b43161070",
   "metadata": {},
   "outputs": [
    {
     "name": "stdout",
     "output_type": "stream",
     "text": [
      "Average Lower Bound: 2.28\n",
      "Average Steiner Tree weight: 4.5\n"
     ]
    }
   ],
   "source": [
    "graph_series = create_graphs(50, 10, nx.generators.binomial_graph, p=0.5)\n",
    "terminals = [0, 1, 2, 3, 4]\n",
    "average_weight = average_solution(graph_series,terminals)\n",
    "average_l_bound = average_lower_bound(graph_series, terminals)\n",
    "print(f\"Average Lower Bound: {average_l_bound}\")\n",
    "print(f\"Average Steiner Tree weight: {average_weight}\")"
   ]
  }
 ],
 "metadata": {
  "kernelspec": {
   "display_name": "Python 3 (ipykernel)",
   "language": "python",
   "name": "python3"
  },
  "language_info": {
   "codemirror_mode": {
    "name": "ipython",
    "version": 3
   },
   "file_extension": ".py",
   "mimetype": "text/x-python",
   "name": "python",
   "nbconvert_exporter": "python",
   "pygments_lexer": "ipython3",
   "version": "3.12.0"
  }
 },
 "nbformat": 4,
 "nbformat_minor": 5
}
