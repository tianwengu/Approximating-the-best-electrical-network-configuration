{
 "cells": [
  {
   "cell_type": "code",
   "execution_count": 25,
   "id": "0435462d-3f42-4845-8434-952b52a598b7",
   "metadata": {},
   "outputs": [],
   "source": [
    "import random\n",
    "import networkx as nx\n",
    "import matplotlib.pyplot as plt\n",
    "import numpy as np\n",
    "from itertools import combinations\n",
    "from steinlib.instance import SteinlibInstance \n",
    "from steinlib.parser import SteinlibParser"
   ]
  },
  {
   "cell_type": "code",
   "execution_count": 26,
   "id": "1330e439-020a-4661-a876-b7f0e1bcb8aa",
   "metadata": {},
   "outputs": [],
   "source": [
    "class MySteinlibInstance(SteinlibInstance): \n",
    "    def __init__(self):\n",
    "        self.my_graph = nx.Graph() \n",
    "        self.terms = []\n",
    "        \n",
    "    def terminals__t(self, line, converted_token): \n",
    "        self.terms.append(converted_token[0])\n",
    "        \n",
    "    def graph__e(self, line, converted_token):\n",
    "        e_start = converted_token [0]\n",
    "        e_end   = converted_token [1]\n",
    "        weight  = converted_token [2]\n",
    "        self.my_graph.add_edge(e_start , e_end , weight=weight)"
   ]
  },
  {
   "cell_type": "code",
   "execution_count": 27,
   "id": "288c7e0e-14ee-4280-9863-384803474332",
   "metadata": {},
   "outputs": [],
   "source": [
    "def load_stein_file (instance_class, id):\n",
    "    stein_file = f\"data/{instance_class}/{id}.stp\" \n",
    "    my_class = MySteinlibInstance() \n",
    "    with open(stein_file) as my_file:\n",
    "        my_parser = SteinlibParser(my_file , my_class) \n",
    "        my_parser.parse()\n",
    "        terms = my_class.terms\n",
    "        graph = my_class.my_graph\n",
    "    return graph , terms\n"
   ]
  },
  {
   "cell_type": "code",
   "execution_count": 28,
   "id": "6d81c1ef-36f2-434b-8ad3-57556f62e1f9",
   "metadata": {},
   "outputs": [],
   "source": [
    "# verify if a solution is correct and evaluate it\n",
    "def eval_sol(graph, terminals, sol) -> float:\n",
    "    graph_sol = nx.Graph()\n",
    "    for (i, j) in sol:\n",
    "        if (i, j) in graph_sol.edges:\n",
    "            graph_sol[i][j]['weight'] = 1 + graph_sol[i][j].get('weight', 1)\n",
    "        else:\n",
    "            graph_sol.add_edge(i, j, weight=graph[i][j].get('weight', 1))\n",
    "\n",
    "    if not nx.is_tree(graph_sol):\n",
    "        print (\"Error: the proposed solution is not a tree\")\n",
    "        return -1\n",
    "\n",
    "    for i in terminals:\n",
    "        if not i in graph_sol:\n",
    "            print (\"Error: a terminal is missing from the solution\")\n",
    "            return -1\n",
    "\n",
    "    cost = graph_sol.size(weight='weight')\n",
    "    return cost"
   ]
  },
  {
   "cell_type": "code",
   "execution_count": 29,
   "id": "8f71344b-0027-4342-a70b-13ef9caf7606",
   "metadata": {},
   "outputs": [],
   "source": [
    "def two_approximation(G, terms):\n",
    "    # Step 1: Create the complete graph K using shortest paths between all terminal pairs\n",
    "    K = nx.Graph()\n",
    "    shortest_paths = {}\n",
    "    for u in terms:\n",
    "        for v in terms:\n",
    "            if u != v:\n",
    "                length, path = nx.single_source_dijkstra(G, u, target=v)\n",
    "                K.add_edge(u, v, weight=length)\n",
    "                shortest_paths[(u, v)] = path\n",
    "\n",
    "    # Step 2: Compute the Minimum Spanning Tree A from graph K\n",
    "    A = nx.minimum_spanning_tree(K, algorithm=\"kruskal\")\n",
    "\n",
    "    # Step 3: Unfold shortest path edges in G for each edge (u, v) in A\n",
    "    steiner_edges = []\n",
    "    for u, v in A.edges():\n",
    "        path = shortest_paths[(u, v)]\n",
    "        \n",
    "        for i in range(len(path) - 1):\n",
    "            steiner_edges.append((path[i], path[i + 1]))\n",
    "\n",
    "    return steiner_edges"
   ]
  },
  {
   "cell_type": "code",
   "execution_count": 30,
   "id": "9ab1ac12-687c-43c7-8edb-9d5f2e78d604",
   "metadata": {},
   "outputs": [],
   "source": [
    "def create_graphs(n,s,model,**kwargs):\n",
    "    Graphs = []\n",
    "    while len(Graphs) < n:\n",
    "        if model == nx.generators.random_graphs.random_regular_graph:\n",
    "            G = model(kwargs['d'], s)\n",
    "        else:\n",
    "            G = model(s, **kwargs)\n",
    "        while not nx.is_connected(G):\n",
    "            if model == nx.generators.random_graphs.random_regular_graph:\n",
    "                G = model(kwargs['d'], s)\n",
    "            else:\n",
    "                G = model(s, **kwargs)\n",
    "        Graphs.append(G)\n",
    "    return Graphs"
   ]
  },
  {
   "cell_type": "code",
   "execution_count": 31,
   "id": "65f75ad8-2aec-480f-9a4d-67f7b784285c",
   "metadata": {},
   "outputs": [],
   "source": [
    "graph_series = create_graphs(5, 10, nx.generators.binomial_graph, p=0.5)"
   ]
  },
  {
   "cell_type": "code",
   "execution_count": 32,
   "id": "69154932-57eb-4ff3-9842-e7a144692f54",
   "metadata": {},
   "outputs": [],
   "source": [
    "def average_solution(Graphs,f,terms):\n",
    "    total_weight = 0\n",
    "    for G in Graphs:\n",
    "        weight = eval_sol(G,terms,f(G,terms))\n",
    "        total_weight += weight\n",
    "    average_weight = total_weight / len(Graphs)\n",
    "    return average_weight"
   ]
  },
  {
   "cell_type": "code",
   "execution_count": 33,
   "id": "8baf93d8-76c5-4caa-9bf5-1cedf2f02a44",
   "metadata": {},
   "outputs": [],
   "source": [
    "def average_meta_solution(Graphs,terms):\n",
    "    total_weight = 0\n",
    "    for G in Graphs: \n",
    "        _, weight = simulated_annealing(G, terms)\n",
    "        total_weight += weight\n",
    "    average_weight = total_weight / len(Graphs)\n",
    "    return average_weight"
   ]
  },
  {
   "cell_type": "code",
   "execution_count": 34,
   "id": "04ea3757-15f3-412c-abd4-45631c1d5288",
   "metadata": {},
   "outputs": [],
   "source": [
    " def three_terminal_steiner_tree(G, t0, t1, t2):\n",
    "    # Step 1: Compute shortest paths between all pairs of terminals\n",
    "    dist_01, path_01 = nx.single_source_dijkstra(G, t0, target=t1, weight='weight')\n",
    "    dist_02, path_02 = nx.single_source_dijkstra(G, t0, target=t2, weight='weight')\n",
    "    dist_12, path_12 = nx.single_source_dijkstra(G, t1, target=t2, weight='weight')\n",
    "    \n",
    "    # Step 2: Try all possible ways to connect the terminals via paths through intermediate nodes\n",
    "    path_t0_t1 = path_01\n",
    "    path_t2_to_path_01 = nx.shortest_path(G, source=t2, target=path_t0_t1[-1], weight='weight')\n",
    "    tree_1 = path_t0_t1 + path_t2_to_path_01[1:]\n",
    "    \n",
    "    path_t0_t2 = path_02\n",
    "    path_t1_to_path_02 = nx.shortest_path(G, source=t1, target=path_t0_t2[-1], weight='weight')\n",
    "    tree_2 = path_t0_t2 + path_t1_to_path_02[1:]\n",
    "    \n",
    "    path_t1_t2 = path_12\n",
    "    path_t0_to_path_12 = nx.shortest_path(G, source=t0, target=path_t1_t2[-1], weight='weight')\n",
    "    tree_3 = path_t1_t2 + path_t0_to_path_12[1:]\n",
    "    \n",
    "    # Step 3: Compare all three options and return the one with the least cost\n",
    "    def calculate_total_cost(tree):\n",
    "        total_cost = 0\n",
    "        for u, v in zip(tree[:-1], tree[1:]):\n",
    "            # Check if edge exists before trying to access it\n",
    "            if G.has_edge(u, v):\n",
    "                total_cost += G[u][v].get('weight', 1)  \n",
    "        return total_cost\n",
    "    \n",
    "    try:\n",
    "        total_cost_1 = calculate_total_cost(tree_1)\n",
    "        total_cost_2 = calculate_total_cost(tree_2)\n",
    "        total_cost_3 = calculate_total_cost(tree_3)\n",
    "    except KeyError as e:\n",
    "        print(f\"Error: {e}\")\n",
    "        return None  \n",
    "    \n",
    "    return min(total_cost_1, total_cost_2, total_cost_3)"
   ]
  },
  {
   "cell_type": "code",
   "execution_count": 35,
   "id": "b36d28b1-eab8-45db-a3e2-791b44ffc732",
   "metadata": {},
   "outputs": [],
   "source": [
    " def lower_bound_k_terminal_steiner(G, terms):\n",
    "    if len(terms) == 3:\n",
    "        return three_terminal_steiner_tree(G, terms[0], terms[1], terms[2])\n",
    "    \n",
    "    # Use combinations of triples to estimate the lower bound\n",
    "    max_bound = -1\n",
    "    for comb in combinations(terms, 3):\n",
    "        bound = three_terminal_steiner_tree(G, comb[0], comb[1], comb[2])\n",
    "        max_bound = max(max_bound, bound)\n",
    "    \n",
    "    return max_bound "
   ]
  },
  {
   "cell_type": "code",
   "execution_count": 36,
   "id": "824581c4-4658-4367-98d9-3bb5c7407fe3",
   "metadata": {},
   "outputs": [],
   "source": [
    "def average_lower_bound_k_terminal_steiner(graph_series,terms):\n",
    "    total_bound = 0\n",
    "    for G in graph_series:\n",
    "        lb = lower_bound_k_terminal_steiner(G, terms)\n",
    "        total_bound += lb\n",
    "    average_bound = total_bound / len(graph_series)\n",
    "    return average_bound"
   ]
  },
  {
   "cell_type": "code",
   "execution_count": 37,
   "id": "b1fd71b6-b92c-4954-bf6e-fb5bc7cabf0b",
   "metadata": {},
   "outputs": [],
   "source": [
    "def lower_bound_shortest_path(G,terms):\n",
    "    shortest_path_bound = 0\n",
    "    for i in range(len(terms)):\n",
    "        for j in range(i + 1, len(terms)):\n",
    "            path_length = nx.shortest_path_length(G, source=terms[i], target=terms[j], weight='weight')\n",
    "            shortest_path_bound = max(shortest_path_bound, path_length)\n",
    "    return shortest_path_bound"
   ]
  },
  {
   "cell_type": "code",
   "execution_count": 38,
   "id": "c675bb28-2070-4289-ac1a-1aa59e006fa0",
   "metadata": {},
   "outputs": [],
   "source": [
    "def average_lower_bound_shortest_path(graph_series,terms):\n",
    "    total_bound = 0\n",
    "    for G in graph_series:\n",
    "        lb = lower_bound_shortest_path(G, terms)\n",
    "        total_bound += lb\n",
    "    average_bound = total_bound / len(graph_series)\n",
    "    return average_bound"
   ]
  },
  {
   "cell_type": "code",
   "execution_count": 39,
   "id": "7dc508bc-b6db-4b16-b9cd-23c2b02dfeaf",
   "metadata": {},
   "outputs": [],
   "source": [
    "def generate_initial_steiner_tree(G, terminals):\n",
    "    steiner_edges = two_approximation(G, terminals)\n",
    "    steiner_tree = nx.Graph()\n",
    "    steiner_tree.add_edges_from(steiner_edges)\n",
    "    return steiner_tree"
   ]
  },
  {
   "cell_type": "code",
   "execution_count": 40,
   "id": "07c5dbac-524f-4115-be98-7d845e17bbca",
   "metadata": {},
   "outputs": [],
   "source": [
    "def prune_tree(tree, terminals):\n",
    "    nodes_to_remove = [node for node in tree.nodes()\n",
    "                       if tree.degree(node) == 1 and node not in terminals]\n",
    "    while nodes_to_remove:\n",
    "        tree.remove_nodes_from(nodes_to_remove)\n",
    "        nodes_to_remove = [node for node in tree.nodes()\n",
    "                           if tree.degree(node) == 1 and node not in terminals]\n",
    "    return tree"
   ]
  },
  {
   "cell_type": "code",
   "execution_count": 41,
   "id": "6da5cfdb-3f39-4659-b66a-192d3bcf0110",
   "metadata": {},
   "outputs": [],
   "source": [
    "def rand_neighbor(G, current_solution, terminals):\n",
    "    new_solution = current_solution.copy()\n",
    "    \n",
    "    operation = random.choice([\"add_node\", \"remove_edge\", \"swap_edge\", \"prune_leaf\"])\n",
    "    if operation == \"add_node\":\n",
    "        non_tree_nodes = set(G.nodes) - set(new_solution.nodes)\n",
    "        if non_tree_nodes:\n",
    "            new_node = random.choice(list(non_tree_nodes))\n",
    "            neighbor_nodes = [n for n in new_solution.nodes if G.has_edge(n, new_node)]\n",
    "            if neighbor_nodes:\n",
    "                neighbor = random.choice(neighbor_nodes)\n",
    "                weight = G[neighbor][new_node].get('weight', 1)\n",
    "                new_solution.add_edge(neighbor, new_node, weight=weight)\n",
    "\n",
    "    elif operation == \"remove_edge\":\n",
    "        removable_edges = [(u, v) for u, v in new_solution.edges()\n",
    "                           if new_solution.degree(u) > 1 and new_solution.degree(v) > 1\n",
    "                           and u not in terminals and v not in terminals]\n",
    "        if removable_edges:\n",
    "            edge_to_remove = random.choice(removable_edges)\n",
    "            new_solution.remove_edge(*edge_to_remove)\n",
    "            if not nx.is_connected(new_solution):\n",
    "                new_solution.add_edge(*edge_to_remove)\n",
    "\n",
    "    elif operation == \"swap_edge\":\n",
    "        u, v = random.choice(list(new_solution.edges()))\n",
    "        new_solution.remove_edge(u, v)\n",
    "        try:\n",
    "            path = nx.shortest_path(G, source=u, target=v, weight='weight')\n",
    "            nx.add_path(new_solution, path)\n",
    "        except nx.NetworkXNoPath:\n",
    "            weight = G[u][v].get('weight', 1)\n",
    "            new_solution.add_edge(u, v, weight=weight)\n",
    "            \n",
    "    elif operation == \"prune_leaf\":\n",
    "        new_solution = prune_tree(new_solution, terminals)\n",
    "        \n",
    "    if nx.is_tree(new_solution) and all(term in new_solution.nodes for term in terminals):\n",
    "        return new_solution\n",
    "    else:\n",
    "        return current_solution"
   ]
  },
  {
   "cell_type": "code",
   "execution_count": 42,
   "id": "f8ae2fec-d69b-479a-8904-c209e14f8dbd",
   "metadata": {},
   "outputs": [],
   "source": [
    "def simulated_annealing(G, terms, T_init=None, T_end=1e-3, max_iterations=1000):\n",
    "    if T_init is None:\n",
    "        T_init = 10 * len(G.edges())\n",
    "    current_solution = generate_initial_steiner_tree(G, terms)\n",
    "    if current_solution is None:\n",
    "        raise ValueError(\"Failed to generate a valid initial Steiner tree.\")\n",
    "        \n",
    "    current_weight = eval_sol(G, terms, current_solution.edges())\n",
    "    best_solution = current_solution.copy()\n",
    "    best_weight = current_weight\n",
    "    iteration = 0\n",
    "    accept_count = 0\n",
    "    T = T_init\n",
    "    while iteration < max_iterations and T > T_end:\n",
    "        new_solution = rand_neighbor(G, current_solution, terms)    \n",
    "        new_weight = eval_sol(G, terms, new_solution.edges())\n",
    "        \n",
    "        if new_weight < current_weight:\n",
    "            proba = 1\n",
    "        else:\n",
    "            proba = np.exp((current_weight - new_weight) / T)\n",
    "            \n",
    "        if random.uniform(0, 1) < proba:\n",
    "            current_solution = new_solution\n",
    "            current_weight = new_weight\n",
    "            accept_count += 1\n",
    "            \n",
    "            if current_weight < best_weight:\n",
    "                best_solution = current_solution\n",
    "                best_weight = current_weight\n",
    "        \n",
    "        iteration += 1\n",
    "        T = T_init / (1 + iteration)\n",
    "                    \n",
    "        if iteration % 100 == 0:\n",
    "            acceptance_ratio = accept_count / 100\n",
    "            accept_count = 0\n",
    "            if acceptance_ratio < 0.05:\n",
    "                T *= 0.9  # Cool down faster if acceptance is low\n",
    "            elif acceptance_ratio > 0.6:\n",
    "                T *= 1.1  # Cool down slower if acceptance is high\n",
    "\n",
    "    return best_solution, best_weight\n"
   ]
  },
  {
   "cell_type": "code",
   "execution_count": 43,
   "id": "535d3849-508f-47f9-8f37-1a979f4766e0",
   "metadata": {},
   "outputs": [],
   "source": [
    "def plot_average_solution_vs_parameter(parameter_values,n,s,model,f,terms,save_path=None,**kwargs):\n",
    "    average_weights = []\n",
    "    average_short_path_bounds = []\n",
    "    average_k_terms_bounds = []\n",
    "    for value in parameter_values:\n",
    "        kwargs['p'] = value\n",
    "        graph_series = create_graphs(n, s, model, **kwargs)\n",
    "        average_weight = average_solution(graph_series, f, terms)\n",
    "        average_short_path_bound = average_lower_bound_shortest_path(graph_series, terms)\n",
    "        average_k_term_bound = average_lower_bound_k_terminal_steiner(graph_series, terms)\n",
    "        average_weights.append(average_weight)\n",
    "        average_short_path_bounds.append(average_short_path_bound)\n",
    "        average_k_terms_bounds.append(average_k_term_bound)\n",
    "\n",
    "    plt.plot(parameter_values, average_weights, marker='o', label='Apprix')\n",
    "    plt.plot(parameter_values, average_short_path_bounds, marker='x', linestyle='--', label='Bound shortest path')\n",
    "    plt.plot(parameter_values, average_k_terms_bounds, marker='x', linestyle='--', label='Bound k terminals')\n",
    "    plt.xlabel('Parameter Value (p)')\n",
    "    plt.ylabel('Average Weight')\n",
    "    plt.title(f'random binomial graph - Size of graphs : {s} nodes')\n",
    "    plt.legend()\n",
    "    plt.grid(True)\n",
    "    if save_path:\n",
    "        plt.savefig(save_path)\n",
    "    plt.show()"
   ]
  },
  {
   "cell_type": "code",
   "execution_count": 44,
   "id": "9c621724-0cae-4d12-9253-5af68e7db1b3",
   "metadata": {},
   "outputs": [],
   "source": [
    "def generate_random_terminals(T, N):\n",
    "    if N < 2:\n",
    "        raise ValueError(\"N must be at least 2.\")\n",
    "    if T > N:\n",
    "        raise ValueError(\"T must be less than or equal to N.\")\n",
    "    \n",
    "    elements = random.sample(range(N), N)\n",
    "    \n",
    "    result = elements[:T]\n",
    "    \n",
    "    return result"
   ]
  },
  {
   "cell_type": "code",
   "execution_count": 45,
   "id": "73d6eed1-2117-47b4-b1b5-41b199607ef5",
   "metadata": {},
   "outputs": [],
   "source": [
    "def plot_average_solution_vs_terminals(title, n,s,model,f,save_path=None,**kwargs):\n",
    "    average_weights = []\n",
    "    average_bounds = []\n",
    "    percentages = [0] + [p / 100 for p in range(10, 101, 10)]\n",
    "    graph_series = create_graphs(n, s, model, **kwargs)\n",
    "    for percentage in percentages:\n",
    "        num_terminals = max(2, int(s * percentage))\n",
    "        terminals = generate_random_terminals(num_terminals, s)\n",
    "        average_weight = average_solution(graph_series, f, terminals)\n",
    "        average_bound = average_lower_bound_shortest_path(graph_series, terminals)\n",
    "        average_weights.append(average_weight)\n",
    "        average_bounds.append(average_bound)\n",
    "\n",
    "    plt.plot([p * 100 for p in percentages], average_weights, marker='o', label='Apprix')\n",
    "    plt.plot([p * 100 for p in percentages], average_bounds,  marker='x', linestyle='--', label='Bound shortest path')\n",
    "    plt.xlabel('Percentage of terminals')\n",
    "    plt.ylabel('Average Weight')\n",
    "    plt.title(title)\n",
    "    plt.legend()\n",
    "    plt.grid(True)\n",
    "    if save_path:\n",
    "        plt.savefig(save_path)\n",
    "    plt.show()"
   ]
  },
  {
   "cell_type": "code",
   "execution_count": 46,
   "id": "4340effb-0651-4938-9a56-56a3d8f96def",
   "metadata": {},
   "outputs": [
    {
     "name": "stdout",
     "output_type": "stream",
     "text": [
      "Average Shortest Path Lower Bound: 2.2\n",
      "Average K terminals Lower Bound: 3.0\n",
      "Average Approximation weight: 4.4\n",
      "Average Meta heuristic weight: 4.2\n"
     ]
    }
   ],
   "source": [
    "graph_series = create_graphs(5, 10, nx.generators.binomial_graph, p=0.5)\n",
    "terminals = [0, 1, 2, 3, 4]\n",
    "average_appro = average_solution(graph_series, two_approximation, terminals)\n",
    "average_meta = average_meta_solution(graph_series,terminals)\n",
    "average_s_p_bound = average_lower_bound_shortest_path(graph_series, terminals)\n",
    "average_k_t_bound = average_lower_bound_k_terminal_steiner(graph_series, terminals)\n",
    "print(f\"Average Shortest Path Lower Bound: {average_s_p_bound}\")\n",
    "print(f\"Average K terminals Lower Bound: {average_k_t_bound}\")\n",
    "print(f\"Average Approximation weight: {average_appro}\")\n",
    "print(f\"Average Meta heuristic weight: {average_meta}\")"
   ]
  },
  {
   "cell_type": "code",
   "execution_count": null,
   "id": "cb328593-3863-434a-9034-89e5022bdd0b",
   "metadata": {
    "scrolled": true
   },
   "outputs": [],
   "source": [
    "parameter_values = [0.1, 0.2, 0.3, 0.4, 0.5, 0.6, 0.7, 0.8, 0.9]\n",
    "nb_graphs = 50\n",
    "nb_nodes = 50\n",
    "terminals = generate_random_terminals(30, 50)\n",
    "plot_average_solution_vs_parameter(parameter_values, nb_graphs, nb_nodes, nx.generators.binomial_graph, two_approximation, terminals,save_path= \"weight with change of p.pdf\")"
   ]
  },
  {
   "cell_type": "code",
   "execution_count": null,
   "id": "5899b7d4-4d34-44cd-9e3c-b0722f081594",
   "metadata": {},
   "outputs": [],
   "source": [
    "nb_graphs = 50\n",
    "nb_nodes = 50\n",
    "title = f'random binomial dense graph - Size of graphs : {nb_nodes} nodes'\n",
    "plot_average_solution_vs_terminals(title, nb_graphs,nb_nodes,nx.generators.binomial_graph,two_approximation, save_path= \"dense_graph.pdf\",p = 0.7)"
   ]
  },
  {
   "cell_type": "code",
   "execution_count": null,
   "id": "d9d16cb8-faad-4e9c-9b50-71655d22bfd1",
   "metadata": {},
   "outputs": [],
   "source": [
    "title = f'random regular graph - Size of graphs : {nb_nodes} nodes'\n",
    "plot_average_solution_vs_terminals(title, nb_graphs, nb_nodes, nx.generators.random_graphs.random_regular_graph, two_approximation,save_path= \"regular_graph.pdf\",d=3)"
   ]
  },
  {
   "cell_type": "code",
   "execution_count": null,
   "id": "9eed5193-f8fb-4a46-acfe-1afb4064553c",
   "metadata": {},
   "outputs": [],
   "source": [
    "title = f'random powerlaw cluster graph - Size of graphs : {nb_nodes} nodes'\n",
    "plot_average_solution_vs_terminals(title, nb_graphs, nb_nodes, nx.generators.random_graphs.powerlaw_cluster_graph, two_approximation, m=3, p=0.7)"
   ]
  },
  {
   "cell_type": "code",
   "execution_count": 242,
   "id": "783c66f8-c032-462f-aea3-78def8e25d03",
   "metadata": {},
   "outputs": [],
   "source": [
    "OptB = [82, 83, 138, 59, 61, 122, 111, 104, 220, 86, 88, 174, 165, 235, 318, 127, 131, 218]\n",
    "OptC = [85, 144, 754, 1079, 1579, 55, 102, 509, 707, 1093, 32, 46, 258, 323, 556, 11, 18, 113, 146, 267]"
   ]
  },
  {
   "cell_type": "code",
   "execution_count": null,
   "id": "5e3f9e75-8b00-45a8-98b7-1ffd6eefdc1d",
   "metadata": {},
   "outputs": [],
   "source": [
    "def plot_algorithm_comparison(class_name, instance_names, approximation, meta, optimal, best_bound, save_path=None):\n",
    "    bar_width = 0.2\n",
    "    x = np.arange(len(instance_names))\n",
    "\n",
    "    plt.figure(figsize=(12, 6))\n",
    "    plt.bar(x - 1.5 * bar_width, approximation, width=bar_width, label=\"Approximation\", color=\"blue\")\n",
    "    plt.bar(x - 0.5 * bar_width, meta, width=bar_width, label=\"Meta-heuristic\", color=\"red\")\n",
    "    plt.bar(x + 0.5 * bar_width, optimal, width=bar_width, label=\"Optimal\", color=\"orange\")\n",
    "    plt.bar(x + 1.5 * bar_width, best_bound, width=bar_width, label=\"Best Bound\", color=\"green\")\n",
    "\n",
    "    plt.xlabel(\"Instance\")\n",
    "    plt.ylabel(\"Weight\")\n",
    "    plt.title(f\"Comparison of algorithms on Steinlib instances of class {class_name}\")\n",
    "    plt.xticks(x, instance_names, rotation=45)\n",
    "    plt.legend()\n",
    "    plt.grid(True, axis='y', linestyle='--', alpha=0.7)\n",
    "    plt.tight_layout()\n",
    "    if save_path:\n",
    "        plt.savefig(save_path)\n",
    "    plt.show()"
   ]
  },
  {
   "cell_type": "code",
   "execution_count": 253,
   "id": "965cbf96-3177-49f8-aa6d-3b14004b3e3f",
   "metadata": {},
   "outputs": [
    {
     "data": {
      "image/png": "[encoded data removed]",
      "text/plain": [
       "<Figure size 1000x600 with 1 Axes>"
      ]
     },
     "metadata": {},
     "output_type": "display_data"
    }
   ],
   "source": [
    "instance_names_b = [\"b01\", \"b02\", \"b03\", \"b04\", \"b05\", \"b06\", \"b07\", \"b08\", \"b09\", \"b10\", \"b11\", \"b12\", \"b13\", \"b14\", \"b15\", \"b16\", \"b17\", \"b18\"]\n",
    "approximation = []\n",
    "best_bound = []\n",
    "for id in instance_names_b:\n",
    "    G, terms = load_stein_file (\"B\", id)\n",
    "    app_weight = eval_sol(G,terms,two_approximation(G,terms))\n",
    "    lower_bound_short_path = lower_bound_shortest_path(G,terms)\n",
    "    lower_bound_k_terms = lower_bound_k_terminal_steiner(G, terms)\n",
    "    approximation.append(app_weight)\n",
    "    best_bound.append(max(lower_bound_short_path, lower_bound_k_terms))\n",
    "plot_algorithm_comparison(\"B\", instance_names, approximation, OptB, best_bound)\n"
   ]
  },
  {
   "cell_type": "code",
   "execution_count": null,
   "id": "05000209-1d63-4f39-9f90-3cb0669cd589",
   "metadata": {},
   "outputs": [],
   "source": [
    "instance_names_c = [\"c01\", \"c02\", \"c03\", \"c04\", \"c05\", \"c06\", \"c07\", \"c08\", \"c09\", \"c10\", \n",
    "                    \"c11\", \"c12\", \"c13\", \"c14\", \"c15\", \"c16\", \"c17\", \"c18\", \"c19\", \"c20\"]\n",
    "approximation = []\n",
    "best_bound = []\n",
    "for id in instance_names_c:\n",
    "    G, terms = load_stein_file (\"C\", id)\n",
    "    app_weight = eval_sol(G,terms,two_approximation(G,terms))\n",
    "    lower_bound_short_path = lower_bound_shortest_path(G,terms)\n",
    "    #lower_bound_k_terms = lower_bound_k_terminal_steiner(G, terms)\n",
    "    approximation.append(app_weight)\n",
    "    #best_bound.append(max(lower_bound_short_path, lower_bound_k_terms))\n",
    "    best_bound.append(lower_bound_short_path)\n",
    "plot_algorithm_comparison(\"C\", instance_names_c, approximation, OptC, best_bound)\n"
   ]
  },
  {
   "cell_type": "code",
   "execution_count": null,
   "id": "7e5c5eb0-7eef-4ac0-8d2e-c6b2c5d41407",
   "metadata": {},
   "outputs": [],
   "source": []
  }
 ],
 "metadata": {
  "kernelspec": {
   "display_name": "Python 3 (ipykernel)",
   "language": "python",
   "name": "python3"
  },
  "language_info": {
   "codemirror_mode": {
    "name": "ipython",
    "version": 3
   },
   "file_extension": ".py",
   "mimetype": "text/x-python",
   "name": "python",
   "nbconvert_exporter": "python",
   "pygments_lexer": "ipython3",
   "version": "3.12.0"
  }
 },
 "nbformat": 4,
 "nbformat_minor": 5
}
