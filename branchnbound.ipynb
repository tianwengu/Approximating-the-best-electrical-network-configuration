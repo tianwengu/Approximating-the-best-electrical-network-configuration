{
 "cells": [
  {
   "cell_type": "code",
   "execution_count": 12,
   "metadata": {},
   "outputs": [],
   "source": [
    "import random \n",
    "import networkx as nx\n",
    "from itertools import combinations"
   ]
  },
  {
   "cell_type": "code",
   "execution_count": null,
   "metadata": {},
   "outputs": [],
   "source": [
    "def is_complete(solution, terminals):\n",
    "    temp_graph = nx.Graph()\n",
    "    temp_graph.add_edges_from(solution)\n",
    "    # Ensure all terminals are added to the graph\n",
    "    temp_graph.add_nodes_from(terminals)\n",
    "\n",
    "    connected_components = nx.node_connected_component(temp_graph, terminals[0])\n",
    "    return set(terminals).issubset(connected_components)"
   ]
  },
  {
   "cell_type": "code",
   "execution_count": null,
   "metadata": {},
   "outputs": [],
   "source": [
    "def cost(solution, graph):\n",
    "    return sum(graph[u][v][\"weight\"] for u, v in solution)"
   ]
  },
  {
   "cell_type": "code",
   "execution_count": null,
   "metadata": {},
   "outputs": [],
   "source": [
    "def possible_edges_to_add(graph, partial_solution, terminals):\n",
    "\n",
    "    temp_graph = nx.Graph()\n",
    "    temp_graph.add_edges_from(partial_solution)\n",
    "    nodes_in_solution = set(temp_graph.nodes)\n",
    "\n",
    "    nodes_in_solution.update(terminals)"
   ]
  },
  {
   "cell_type": "code",
   "execution_count": null,
   "metadata": {},
   "outputs": [],
   "source": [
    "def calculate_lower_bound(graph, terminals):\n",
    "    shortest_path_bound = 0\n",
    "\n",
    "    for i in range(len(terminals)):\n",
    "        for j in range(i + 1, len(terminals)):\n",
    "            try:\n",
    "                # Compute the shortest path length between terminals[i] and terminals[j]\n",
    "                path_length = nx.shortest_path_length(graph, source=terminals[i], target=terminals[j], weight='weight')\n",
    "                shortest_path_bound = max(shortest_path_bound, path_length)\n",
    "            except nx.NetworkXNoPath:\n",
    "                shortest_path_bound = float('inf')\n",
    "                break\n",
    "    return shortest_path_bound"
   ]
  },
  {
   "cell_type": "code",
   "execution_count": null,
   "metadata": {},
   "outputs": [],
   "source": [
    "def branch_and_bound(graph, terminals):\n",
    "    best_solution = None\n",
    "    best_cost = float(\"inf\")\n",
    "\n",
    "    mst = nx.minimum_spanning_tree(graph)\n",
    "    best_solution = set(mst.edges)\n",
    "    best_cost = mst.size(weight=\"weight\")\n",
    "\n",
    "    def BnB(partial_solution, lower_bound):\n",
    "        nonlocal best_solution, best_cost\n",
    "\n",
    "        if is_complete(partial_solution, terminals):\n",
    "            current_cost = cost(partial_solution, graph)\n",
    "            if current_cost < best_cost:\n",
    "                best_solution = partial_solution.copy()\n",
    "                best_cost = current_cost\n",
    "            return\n",
    "\n",
    "        # Prune branches that exceed the best cost\n",
    "        if lower_bound >= best_cost:\n",
    "            return\n",
    "\n",
    "        # Branch on possible edges\n",
    "        for edge in possible_edges_to_add(graph, partial_solution, terminals):\n",
    "            new_partial_solution = partial_solution.copy()\n",
    "            new_partial_solution.add(edge)\n",
    "            new_lower_bound = calculate_lower_bound(graph, terminals) \n",
    "            BnB(new_partial_solution, new_lower_bound)\n",
    "\n",
    "    # Start the recursion with an empty solution\n",
    "    initial_solution = set()\n",
    "    initial_lower_bound = calculate_lower_bound(graph, terminals) \n",
    "    BnB(initial_solution, initial_lower_bound)\n",
    "\n",
    "    return best_solution, best_cost"
   ]
  },
  {
   "cell_type": "code",
   "execution_count": null,
   "metadata": {},
   "outputs": [],
   "source": [
    "def test_branch_and_bound():\n",
    "   \n",
    "    # Create the graph of the worst instance of error ratio example\n",
    "    G = nx.Graph()\n",
    "\n",
    "    G.add_edge('A', 'T1', weight=5)\n",
    "    G.add_edge('A', 'B', weight=7)\n",
    "    G.add_edge('A', 'D', weight=9)\n",
    "    G.add_edge('T1', 'D', weight=8)\n",
    "    G.add_edge('A', 'T2', weight=5)\n",
    "    G.add_edge('A', 'C', weight=3)\n",
    "    G.add_edge('A', 'T3', weight=5)\n",
    "    G.add_edge('T1', 'B', weight=7)\n",
    "    G.add_edge('B', 'T2', weight=3)\n",
    "    G.add_edge('T2', 'C', weight=6)\n",
    "    G.add_edge('C', 'T3', weight=4)\n",
    "    G.add_edge('T3', 'D', weight=7)\n",
    "\n",
    "    terminals = ['T1', 'T2', 'T3']\n",
    "\n",
    "    best_solution, best_cost = branch_and_bound(G, terminals)\n",
    "    print(\"\\nBest Steiner tree solution (edges):\", best_solution)\n",
    "    print(\"Total cost of the Steiner tree:\", best_cost)"
   ]
  },
  {
   "cell_type": "code",
   "execution_count": 98,
   "metadata": {},
   "outputs": [
    {
     "name": "stdout",
     "output_type": "stream",
     "text": [
      "\n",
      "Best Steiner tree solution (edges): {('A', 'T1'), ('A', 'T2'), ('A', 'T3')}\n",
      "Total cost of the Steiner tree: 15\n"
     ]
    }
   ],
   "source": [
    "test_branch_and_bound()"
   ]
  }
 ],
 "metadata": {
  "kernelspec": {
   "display_name": "Python 3",
   "language": "python",
   "name": "python3"
  },
  "language_info": {
   "codemirror_mode": {
    "name": "ipython",
    "version": 3
   },
   "file_extension": ".py",
   "mimetype": "text/x-python",
   "name": "python",
   "nbconvert_exporter": "python",
   "pygments_lexer": "ipython3",
   "version": "3.13.0"
  }
 },
 "nbformat": 4,
 "nbformat_minor": 2
}
